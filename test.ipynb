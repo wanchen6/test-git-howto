{
 "cells": [
  {
   "cell_type": "markdown",
   "metadata": {},
   "source": [
    "![image](./2.2-query-editor-run-query.gif)"
   ]
  }
 ]
}
